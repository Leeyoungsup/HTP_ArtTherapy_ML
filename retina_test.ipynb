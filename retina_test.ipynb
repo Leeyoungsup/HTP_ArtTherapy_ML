{
 "cells": [
  {
   "cell_type": "code",
   "execution_count": 13,
   "metadata": {},
   "outputs": [],
   "source": [
    "\n",
    "import os\n",
    "import cv2\n",
    "import numpy as np\n",
    "import matplotlib.pyplot as plt\n",
    "import pandas as pd\n",
    "from PIL import Image,ImageFont,ImageDraw\n",
    "import json\n",
    "import cv2\n",
    "\n",
    "import tensorflow as tf\n",
    "from keras_retinanet.models import load_model\n",
    "os.environ[\"CUDA_VISIBLE_DEVICES\"] = \"2\"\n",
    "folder_path='./data/test/house/'\n",
    "dst_folder_path='./data/predict/house/'\n",
    "model_path='./data/model/'"
   ]
  },
  {
   "cell_type": "code",
   "execution_count": 14,
   "metadata": {},
   "outputs": [
    {
     "name": "stdout",
     "output_type": "stream",
     "text": [
      "WARNING:tensorflow:No training configuration found in the save file, so the model was *not* compiled. Compile it manually.\n",
      "Thumbs.db은 이미지 파일이 아닙니다\n"
     ]
    }
   ],
   "source": [
    "def nms(boxes,scores,count,threshold):\n",
    "    box,score=[],[]\n",
    "    detetion_index=np.where(scores!=-1)[0]\n",
    "    for i in detetion_index:\n",
    "        box.append(boxes[i].tolist())\n",
    "        score.append(scores[i].tolist())  \n",
    "    box=np.array(box)\n",
    "    box_index, score = tf.image.non_max_suppression_with_scores(\n",
    "      box, score, count, iou_threshold=0.2, score_threshold=threshold) \n",
    "    return box[box_index.numpy()], score.numpy()\n",
    "\n",
    "model=load_model(model_path+'H_whole_model.h5')\n",
    "file_list=os.listdir(folder_path)\n",
    "src_img=np.empty((0,1024,1024,3),dtype=np.uint8)\n",
    "house_object=np.array(['house','window','roof','wall','door','chimney'])\n",
    "dst_list=[]\n",
    "dst_box=[]\n",
    "dst_label=[]\n",
    "dst_score=[]\n",
    "for file_name in file_list:\n",
    "    try:\n",
    "        input1=cv2.imread(folder_path+file_name)\n",
    "        input1=cv2.resize(input1,(512,512))\n",
    "        input=np.zeros((1024,1024,3))\n",
    "        input[256:768,256:768]=input1\n",
    "        input=np.reshape(input,(1,1024,1024,3))\n",
    "        src_img=np.concatenate((src_img,input),axis=0)\n",
    "        dst_list.append(file_name)\n",
    "    except:\n",
    "        print(file_name+'은 이미지 파일이 아닙니다')\n",
    "\n",
    "boxes, scores, labels=model.predict(src_img)\n",
    "detetion_index=np.where(scores!=-1)[0]\n",
    "prediction_box,prediction_label,prediction_score=[],[],[]\n",
    "\n",
    "for i in range(len(dst_list)):\n",
    "    class_label=np.unique(labels[i])\n",
    "    class_label=np.delete(class_label,np.where(class_label==-1))\n",
    "    dst_box=[]\n",
    "    dst_label=[]\n",
    "    dst_score=[]\n",
    "    for j in class_label:\n",
    "        class_index=np.where(labels[i]==j)[0]\n",
    "        if j==5:\n",
    "            src_box,src_score=nms(boxes[i][class_index], scores[i][class_index],1,0.5)\n",
    "        if j==2 or j==3:\n",
    "            src_box,src_score=nms(boxes[i][class_index], scores[i][class_index],1,0.5)\n",
    "        else:\n",
    "            src_box,src_score=nms(boxes[i][class_index], scores[i][class_index],99,0.8)\n",
    "        src_box=np.delete (src_box, np.where((src_box[:,0]-256)*2>1024)[0], axis=0)\n",
    "        src_score=np.delete (src_score, np.where((src_box[:,0]-256)*2>1024)[0], axis=0) \n",
    "        src_box=np.delete (src_box, np.where((src_box[:,1]-256)*2>1024)[0], axis=0)\n",
    "        src_score=np.delete (src_score, np.where((src_box[:,1]-256)*2>1024)[0], axis=0)   \n",
    "        src_box=np.delete (src_box, np.where((src_box[:,2]-256)*2<0)[0], axis=0)\n",
    "        src_score=np.delete (src_score, np.where((src_box[:,2]-256)*2<0)[0], axis=0)   \n",
    "        src_box=np.delete (src_box, np.where((src_box[:,3]-256)*2<0)[0], axis=0)\n",
    "        src_score=np.delete (src_score, np.where((src_box[:,3]-256)*2<0)[0], axis=0)   \n",
    "        src_box[np.where((src_box[:,3]-256)*2>1024)[0],3]=768\n",
    "        src_box[np.where((src_box[:,2]-256)*2>1024)[0],2]=768\n",
    "        src_box[np.where((src_box[:,1]-256)*2<0)[0],1]=256 \n",
    "        src_box[np.where((src_box[:,0]-256)*2<0)[0],0]=256\n",
    "        dst_box.append((src_box-256)*2)\n",
    "        dst_score.append(src_score)\n",
    "        dst_label.append(j)\n",
    "    prediction_box.append(dst_box)\n",
    "    prediction_score.append(dst_score)\n",
    "    prediction_label.append(dst_label)\n",
    "\n",
    "fontFace = cv2.FONT_HERSHEY_COMPLEX\n",
    "fontScale = 0.5\n",
    "thickness = 1\n",
    "try:\n",
    "    os.mkdir(dst_folder_path+'csv')\n",
    "except:\n",
    "    pass\n",
    "for i in range(len(dst_list)):\n",
    "    input=cv2.imread(folder_path+dst_list[i])\n",
    "    input=cv2.resize(input,(1024,1024))\n",
    "    img=np.copy(input)\n",
    "    csv_data = {'x1': [],\n",
    "            'y1': [],\n",
    "            'x2': [],\n",
    "            'y2': [],\n",
    "            'class_name': [],\n",
    "            'score':[]}\n",
    "    for j in range(len(prediction_box[i])):\n",
    "        for k in range(len(prediction_box[i][j])):\n",
    "            pt1=(int(prediction_box[i][j][k][0]),int(prediction_box[i][j][k][1]))\n",
    "            pt2=(int(prediction_box[i][j][k][2]),int(prediction_box[i][j][k][3]))\n",
    "            img=cv2.rectangle(img,pt1,pt2,(0,255,0),4)\n",
    "            label =house_object[prediction_label[i][j]] + ' score : '+str(int(prediction_score[i][j][k]*100)/100)\n",
    "            csv_data['x1'].append(int(prediction_box[i][j][k][0]))\n",
    "            csv_data['y1'].append(int(prediction_box[i][j][k][1]))\n",
    "            csv_data['x2'].append(int(prediction_box[i][j][k][2]))\n",
    "            csv_data['y2'].append(int(prediction_box[i][j][k][3]))\n",
    "            csv_data['class_name'].append(house_object[prediction_label[i][j]])\n",
    "            csv_data['score'].append(prediction_score[i][j][k])\n",
    "            labelSize = cv2.getTextSize(label, fontFace, fontScale, thickness)\n",
    "            cv2.rectangle(img, pt1, (pt1[0]+labelSize[0][0],pt1[1]-labelSize[0][1]), (0,255,0), cv2.FILLED)\n",
    "            cv2.putText(img, label, pt1, fontFace, fontScale, (0,0,0), thickness)\n",
    "    all_data = pd.DataFrame(csv_data)\n",
    "    all_data.to_csv(dst_folder_path+'csv/'+dst_list[i][0:dst_list[i].find('.')]+'.csv',index=False,encoding='cp949',header=False)\n",
    "    cv2.imwrite(dst_folder_path+dst_list[i],img)\n"
   ]
  },
  {
   "cell_type": "code",
   "execution_count": 10,
   "metadata": {},
   "outputs": [
    {
     "data": {
      "text/plain": [
       "array([1, 2, 3, 4], dtype=int32)"
      ]
     },
     "execution_count": 10,
     "metadata": {},
     "output_type": "execute_result"
    }
   ],
   "source": [
    "class_label"
   ]
  },
  {
   "cell_type": "code",
   "execution_count": 56,
   "metadata": {},
   "outputs": [
    {
     "ename": "",
     "evalue": "",
     "output_type": "error",
     "traceback": [
      "\u001b[1;31m현재 셀 또는 이전 셀에서 코드를 실행하는 동안 Kernel이 충돌했습니다. 셀의 코드를 검토하여 오류의 가능한 원인을 식별하세요. 자세한 내용을 보려면 <a href='https://aka.ms/vscodeJupyterKernelCrash'> 여기 </a> 를 클릭하세요. 자세한 내용은 Jupyter <a href='command:jupyter.viewOutput'>로그</a>를 참조하세요."
     ]
    }
   ],
   "source": [
    "for i in range(len(dst_list)):\n",
    "    input=cv2.imread(folder_path+dst_list[i])\n",
    "    input=cv2.resize(input,(1024,1024))\n",
    "    img=np.copy(input)\n",
    "    csv_data = {'x1': [],\n",
    "            'y1': [],\n",
    "            'x2': [],\n",
    "            'y2': [],\n",
    "            'class_name': [],\n",
    "            'score':[]}\n",
    "    for j in range(len(prediction_box[i])):\n",
    "        for k in range(len(prediction_box[i][j])):\n",
    "            pt1=(int(prediction_box[i][j][k][0]),int(prediction_box[i][j][k][1]))\n",
    "            pt2=(int(prediction_box[i][j][k][2]),int(prediction_box[i][j][k][3]))\n",
    "            if tree_object[prediction_label[i][j]]=='crown' and int(prediction_box[i][j][k][3])>7*1024/8:\n",
    "                continue\n",
    "            else:\n",
    "                img=cv2.rectangle(img,pt1,pt2,(0,255,0),4)\n",
    "                label =tree_object[prediction_label[i][j]] + ' score : '+str(int(prediction_score[i][j][k]*100)/100)\n",
    "                csv_data['x1'].append(int(prediction_box[i][j][k][0]))\n",
    "                csv_data['y1'].append(int(prediction_box[i][j][k][1]))\n",
    "                csv_data['x2'].append(int(prediction_box[i][j][k][2]))\n",
    "                csv_data['y2'].append(int(prediction_box[i][j][k][3]))\n",
    "                csv_data['class_name'].append(tree_object[prediction_label[i][j]])\n",
    "                csv_data['score'].append(prediction_score[i][j][k])\n",
    "                labelSize = cv2.getTextSize(label, fontFace, fontScale, thickness)\n",
    "                cv2.rectangle(img, pt1, (pt1[0]+labelSize[0][0],pt1[1]-labelSize[0][1]), (0,255,0), cv2.FILLED)\n",
    "                cv2.putText(img, label, pt1, fontFace, fontScale, (0,0,0), thickness)\n",
    "    all_data = pd.DataFrame(csv_data)\n",
    "    all_data.to_csv(dst_folder_path+'csv/'+dst_list[i][0:dst_list[i].find('.')]+'.csv',index=False,encoding='cp949',header=False)\n",
    "    cv2.imwrite(dst_folder_path+dst_list[i],img)"
   ]
  },
  {
   "cell_type": "code",
   "execution_count": 11,
   "metadata": {},
   "outputs": [
    {
     "data": {
      "text/plain": [
       "array([[[1., 1., 1.],\n",
       "        [1., 1., 1.],\n",
       "        [1., 1., 1.],\n",
       "        ...,\n",
       "        [1., 1., 1.],\n",
       "        [1., 1., 1.],\n",
       "        [1., 1., 1.]],\n",
       "\n",
       "       [[1., 1., 1.],\n",
       "        [1., 1., 1.],\n",
       "        [1., 1., 1.],\n",
       "        ...,\n",
       "        [1., 1., 1.],\n",
       "        [1., 1., 1.],\n",
       "        [1., 1., 1.]],\n",
       "\n",
       "       [[1., 1., 1.],\n",
       "        [1., 1., 1.],\n",
       "        [1., 1., 1.],\n",
       "        ...,\n",
       "        [1., 1., 1.],\n",
       "        [1., 1., 1.],\n",
       "        [1., 1., 1.]],\n",
       "\n",
       "       ...,\n",
       "\n",
       "       [[1., 1., 1.],\n",
       "        [1., 1., 1.],\n",
       "        [1., 1., 1.],\n",
       "        ...,\n",
       "        [1., 1., 1.],\n",
       "        [1., 1., 1.],\n",
       "        [1., 1., 1.]],\n",
       "\n",
       "       [[1., 1., 1.],\n",
       "        [1., 1., 1.],\n",
       "        [1., 1., 1.],\n",
       "        ...,\n",
       "        [1., 1., 1.],\n",
       "        [1., 1., 1.],\n",
       "        [1., 1., 1.]],\n",
       "\n",
       "       [[1., 1., 1.],\n",
       "        [1., 1., 1.],\n",
       "        [1., 1., 1.],\n",
       "        ...,\n",
       "        [1., 1., 1.],\n",
       "        [1., 1., 1.],\n",
       "        [1., 1., 1.]]])"
      ]
     },
     "execution_count": 11,
     "metadata": {},
     "output_type": "execute_result"
    }
   ],
   "source": [
    "a=np.ones([1024,1024,3])\n",
    "b=np.ones([512,512,3])*3\n",
    "a[256:768,256:768]=b\n",
    "a"
   ]
  }
 ],
 "metadata": {
  "kernelspec": {
   "display_name": "detectYS",
   "language": "python",
   "name": "python3"
  },
  "language_info": {
   "codemirror_mode": {
    "name": "ipython",
    "version": 3
   },
   "file_extension": ".py",
   "mimetype": "text/x-python",
   "name": "python",
   "nbconvert_exporter": "python",
   "pygments_lexer": "ipython3",
   "version": "3.6.12"
  },
  "orig_nbformat": 4,
  "vscode": {
   "interpreter": {
    "hash": "ac235f55b0fd2567be07a44fd00345465a5befd8363ed3c036b52aefce41cf7d"
   }
  }
 },
 "nbformat": 4,
 "nbformat_minor": 2
}
